{
 "cells": [
  {
   "cell_type": "markdown",
   "id": "9ab40c3a",
   "metadata": {},
   "source": [
    "# python ka Chilla with #baba_ammar\n",
    "## how to use Jupyter Note Book\n",
    "## Basics of Python\n",
    "### 1- My first program\n",
    "\n"
   ]
  },
  {
   "cell_type": "code",
   "execution_count": 22,
   "id": "6d81947c",
   "metadata": {},
   "outputs": [
    {
     "name": "stdout",
     "output_type": "stream",
     "text": [
      "5\n",
      "hello world\n",
      "we are learning with Ammar\n"
     ]
    }
   ],
   "source": [
    "print(2+3)\n",
    "print(\"hello world\")\n",
    "print(\"we are learning with Ammar\")"
   ]
  },
  {
   "cell_type": "markdown",
   "id": "a353092d",
   "metadata": {},
   "source": [
    "### **02-Operators**"
   ]
  },
  {
   "cell_type": "code",
   "execution_count": 23,
   "id": "38751ca3",
   "metadata": {},
   "outputs": [
    {
     "name": "stdout",
     "output_type": "stream",
     "text": [
      "11\n",
      "4\n"
     ]
    }
   ],
   "source": [
    "print(5+6)\n",
    "print(6-2)"
   ]
  },
  {
   "cell_type": "markdown",
   "id": "d236f1b9",
   "metadata": {},
   "source": [
    "*PEMDAS\n",
    "Paranthesis Exponents multiply Divide Addition subtraction left to right sequence for M D & A S"
   ]
  },
  {
   "cell_type": "markdown",
   "id": "a40de04c",
   "metadata": {},
   "source": [
    "### **03_string**"
   ]
  },
  {
   "cell_type": "code",
   "execution_count": 24,
   "id": "a73631d9",
   "metadata": {},
   "outputs": [
    {
     "name": "stdout",
     "output_type": "stream",
     "text": [
      "hello world\n",
      "we are learning python with ammar\n",
      "test for single quotes\n",
      "test for double qoutes\n",
      "test for triple quotes\n",
      "what's up?\n"
     ]
    }
   ],
   "source": [
    "print(\"hello world\")\n",
    "print(\"we are learning python with ammar\")\n",
    "print('test for single quotes')\n",
    "print(\"test for double qoutes\")\n",
    "print('''test for triple quotes''')\n",
    "print(\"what's up?\")"
   ]
  },
  {
   "cell_type": "markdown",
   "id": "d09c24e5",
   "metadata": {},
   "source": [
    "### **04_comments in python**\n",
    "The shortcut key to comment is **Clt+/**"
   ]
  },
  {
   "cell_type": "code",
   "execution_count": 12,
   "id": "636e6590",
   "metadata": {},
   "outputs": [
    {
     "name": "stdout",
     "output_type": "stream",
     "text": [
      "how are you?\n",
      "we are learing with ammar\n"
     ]
    }
   ],
   "source": [
    "print(\"how are you?\")\n",
    "print(\"we are learing with ammar\")\n"
   ]
  },
  {
   "cell_type": "code",
   "execution_count": null,
   "id": "1d0650c2",
   "metadata": {},
   "outputs": [],
   "source": []
  }
 ],
 "metadata": {
  "kernelspec": {
   "display_name": "Python 3 (ipykernel)",
   "language": "python",
   "name": "python3"
  },
  "language_info": {
   "codemirror_mode": {
    "name": "ipython",
    "version": 3
   },
   "file_extension": ".py",
   "mimetype": "text/x-python",
   "name": "python",
   "nbconvert_exporter": "python",
   "pygments_lexer": "ipython3",
   "version": "3.9.12"
  }
 },
 "nbformat": 4,
 "nbformat_minor": 5
}
