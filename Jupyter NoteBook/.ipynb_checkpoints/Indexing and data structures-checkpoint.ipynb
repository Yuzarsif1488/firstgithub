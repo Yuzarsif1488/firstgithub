{
 "cells": [
  {
   "cell_type": "markdown",
   "id": "2b766159",
   "metadata": {},
   "source": [
    "# -indexing"
   ]
  },
  {
   "cell_type": "code",
   "execution_count": 1,
   "id": "d0003b1b",
   "metadata": {},
   "outputs": [
    {
     "data": {
      "text/plain": [
       "'Samosa Pakora'"
      ]
     },
     "execution_count": 1,
     "metadata": {},
     "output_type": "execute_result"
    }
   ],
   "source": [
    "# make a string\n",
    "a = \"Samosa Pakora\"\n",
    "a"
   ]
  },
  {
   "cell_type": "code",
   "execution_count": 2,
   "id": "bfe7ea26",
   "metadata": {},
   "outputs": [
    {
     "data": {
      "text/plain": [
       "'Samosa Pakora'"
      ]
     },
     "execution_count": 2,
     "metadata": {},
     "output_type": "execute_result"
    }
   ],
   "source": [
    "a"
   ]
  },
  {
   "cell_type": "code",
   "execution_count": 3,
   "id": "77ed7196",
   "metadata": {},
   "outputs": [
    {
     "data": {
      "text/plain": [
       "13"
      ]
     },
     "execution_count": 3,
     "metadata": {},
     "output_type": "execute_result"
    }
   ],
   "source": [
    "# length of indeces\n",
    "len(a)"
   ]
  },
  {
   "cell_type": "code",
   "execution_count": 4,
   "id": "ab961168",
   "metadata": {},
   "outputs": [
    {
     "data": {
      "text/plain": [
       "'a'"
      ]
     },
     "execution_count": 4,
     "metadata": {},
     "output_type": "execute_result"
    }
   ],
   "source": [
    "a[0]\n",
    "a[1]"
   ]
  },
  {
   "cell_type": "code",
   "execution_count": 5,
   "id": "45c98872",
   "metadata": {
    "scrolled": true
   },
   "outputs": [
    {
     "data": {
      "text/plain": [
       "'s'"
      ]
     },
     "execution_count": 5,
     "metadata": {},
     "output_type": "execute_result"
    }
   ],
   "source": [
    "a[4]"
   ]
  },
  {
   "cell_type": "code",
   "execution_count": 7,
   "id": "95868745",
   "metadata": {},
   "outputs": [
    {
     "data": {
      "text/plain": [
       "'a'"
      ]
     },
     "execution_count": 7,
     "metadata": {},
     "output_type": "execute_result"
    }
   ],
   "source": [
    "a[12]"
   ]
  },
  {
   "cell_type": "code",
   "execution_count": 8,
   "id": "330f51cb",
   "metadata": {},
   "outputs": [
    {
     "data": {
      "text/plain": [
       "'Samos'"
      ]
     },
     "execution_count": 8,
     "metadata": {},
     "output_type": "execute_result"
    }
   ],
   "source": [
    "a[0:5]"
   ]
  },
  {
   "cell_type": "code",
   "execution_count": 15,
   "id": "f74ce62f",
   "metadata": {},
   "outputs": [
    {
     "data": {
      "text/plain": [
       "'Samosa Pakora'"
      ]
     },
     "execution_count": 15,
     "metadata": {},
     "output_type": "execute_result"
    }
   ],
   "source": [
    "# last index is exclusive\n",
    "a[0:13]"
   ]
  },
  {
   "cell_type": "code",
   "execution_count": 20,
   "id": "34574779",
   "metadata": {},
   "outputs": [
    {
     "data": {
      "text/plain": [
       "'Pakora'"
      ]
     },
     "execution_count": 20,
     "metadata": {},
     "output_type": "execute_result"
    }
   ],
   "source": [
    "a[-6:13]"
   ]
  },
  {
   "cell_type": "markdown",
   "id": "a4a74a16",
   "metadata": {},
   "source": [
    "## -String method"
   ]
  },
  {
   "cell_type": "code",
   "execution_count": 28,
   "id": "abea6913",
   "metadata": {},
   "outputs": [
    {
     "data": {
      "text/plain": [
       "'biryani'"
      ]
     },
     "execution_count": 28,
     "metadata": {},
     "output_type": "execute_result"
    }
   ],
   "source": [
    "food ='biryani'\n",
    "food"
   ]
  },
  {
   "cell_type": "code",
   "execution_count": 26,
   "id": "d9b83001",
   "metadata": {},
   "outputs": [
    {
     "data": {
      "text/plain": [
       "7"
      ]
     },
     "execution_count": 26,
     "metadata": {},
     "output_type": "execute_result"
    }
   ],
   "source": [
    "len(food)"
   ]
  },
  {
   "cell_type": "code",
   "execution_count": 27,
   "id": "def9563a",
   "metadata": {
    "scrolled": true
   },
   "outputs": [
    {
     "data": {
      "text/plain": [
       "'Biryani'"
      ]
     },
     "execution_count": 27,
     "metadata": {},
     "output_type": "execute_result"
    }
   ],
   "source": [
    "food.capitalize()"
   ]
  },
  {
   "cell_type": "code",
   "execution_count": 29,
   "id": "a6c460a9",
   "metadata": {},
   "outputs": [
    {
     "data": {
      "text/plain": [
       "'BIRYANI'"
      ]
     },
     "execution_count": 29,
     "metadata": {},
     "output_type": "execute_result"
    }
   ],
   "source": [
    "food.upper()"
   ]
  },
  {
   "cell_type": "code",
   "execution_count": 30,
   "id": "c2db7d01",
   "metadata": {},
   "outputs": [
    {
     "data": {
      "text/plain": [
       "'biryani'"
      ]
     },
     "execution_count": 30,
     "metadata": {},
     "output_type": "execute_result"
    }
   ],
   "source": [
    "food.lower()"
   ]
  },
  {
   "cell_type": "code",
   "execution_count": 32,
   "id": "f54a410e",
   "metadata": {},
   "outputs": [
    {
     "data": {
      "text/plain": [
       "'shiryani'"
      ]
     },
     "execution_count": 32,
     "metadata": {},
     "output_type": "execute_result"
    }
   ],
   "source": [
    "food.replace(\"b\", \"sh\")"
   ]
  },
  {
   "cell_type": "code",
   "execution_count": 34,
   "id": "14ec89bf",
   "metadata": {},
   "outputs": [
    {
     "data": {
      "text/plain": [
       "'Syed Shoaib haider Jafferi'"
      ]
     },
     "execution_count": 34,
     "metadata": {},
     "output_type": "execute_result"
    }
   ],
   "source": [
    "name=\"Syed, Shoaib, haider, Jafferi\"\n",
    "name"
   ]
  },
  {
   "cell_type": "code",
   "execution_count": 35,
   "id": "f904bd8f",
   "metadata": {},
   "outputs": [
    {
     "data": {
      "text/plain": [
       "2"
      ]
     },
     "execution_count": 35,
     "metadata": {},
     "output_type": "execute_result"
    }
   ],
   "source": [
    "name.count(\"S\")"
   ]
  },
  {
   "cell_type": "markdown",
   "id": "4e2fee51",
   "metadata": {},
   "source": [
    "### -finding an index number in string"
   ]
  },
  {
   "cell_type": "code",
   "execution_count": 36,
   "id": "579419fa",
   "metadata": {},
   "outputs": [
    {
     "data": {
      "text/plain": [
       "'Syed, Shoaib, haider, Jafferi'"
      ]
     },
     "execution_count": 36,
     "metadata": {},
     "output_type": "execute_result"
    }
   ],
   "source": [
    "name=\"Syed, Shoaib, haider, Jafferi\"\n",
    "name"
   ]
  },
  {
   "cell_type": "code",
   "execution_count": 38,
   "id": "dd803862",
   "metadata": {},
   "outputs": [
    {
     "data": {
      "text/plain": [
       "22"
      ]
     },
     "execution_count": 38,
     "metadata": {},
     "output_type": "execute_result"
    }
   ],
   "source": [
    "name.find(\"J\")"
   ]
  },
  {
   "cell_type": "markdown",
   "id": "60918264",
   "metadata": {},
   "source": [
    "### -how to split a string"
   ]
  },
  {
   "cell_type": "code",
   "execution_count": 39,
   "id": "869a11a8",
   "metadata": {},
   "outputs": [
    {
     "data": {
      "text/plain": [
       "'I love samosa, pakora, raita, pulao and karahi'"
      ]
     },
     "execution_count": 39,
     "metadata": {},
     "output_type": "execute_result"
    }
   ],
   "source": [
    "food=\"I love samosa, pakora, raita, pulao and karahi\"\n",
    "food"
   ]
  },
  {
   "cell_type": "code",
   "execution_count": 40,
   "id": "bf7e32cb",
   "metadata": {},
   "outputs": [
    {
     "data": {
      "text/plain": [
       "['I love samosa', ' pakora', ' raita', ' pulao and karahi']"
      ]
     },
     "execution_count": 40,
     "metadata": {},
     "output_type": "execute_result"
    }
   ],
   "source": [
    "food.split(\",\")"
   ]
  },
  {
   "cell_type": "markdown",
   "id": "768b2125",
   "metadata": {},
   "source": [
    "# Basic data Structure in Python\n",
    "## 1- Tuples\n",
    "## 2- List\n",
    "## 3- Dictionaries\n",
    "## 4- Set"
   ]
  },
  {
   "cell_type": "markdown",
   "id": "f21c529c",
   "metadata": {},
   "source": [
    "## 1-Tuple"
   ]
  },
  {
   "cell_type": "markdown",
   "id": "89eb362f",
   "metadata": {},
   "source": [
    "- Ordered collection of elements\n",
    "- enclosed in  () round braces/paranthesis\n",
    "- Different kind of elements can be stored\n",
    "- Once elements are stored you can not changed them (unmutatable)"
   ]
  },
  {
   "cell_type": "code",
   "execution_count": 5,
   "id": "d6bacfc8",
   "metadata": {},
   "outputs": [
    {
     "data": {
      "text/plain": [
       "(1, 'python', True, 2.5)"
      ]
     },
     "execution_count": 5,
     "metadata": {},
     "output_type": "execute_result"
    }
   ],
   "source": [
    "tup1 = (1, \"python\", True, 2.5)\n",
    "tup1"
   ]
  },
  {
   "cell_type": "code",
   "execution_count": 6,
   "id": "2c999b93",
   "metadata": {},
   "outputs": [
    {
     "data": {
      "text/plain": [
       "tuple"
      ]
     },
     "execution_count": 6,
     "metadata": {},
     "output_type": "execute_result"
    }
   ],
   "source": [
    "# Type of a tuple\n",
    "type(tup1)"
   ]
  },
  {
   "cell_type": "markdown",
   "id": "d74c2e2a",
   "metadata": {},
   "source": [
    "###  -Indexing in tuple\n"
   ]
  },
  {
   "cell_type": "code",
   "execution_count": 10,
   "id": "829eeb09",
   "metadata": {},
   "outputs": [
    {
     "data": {
      "text/plain": [
       "2.5"
      ]
     },
     "execution_count": 10,
     "metadata": {},
     "output_type": "execute_result"
    }
   ],
   "source": [
    "tup1[3]"
   ]
  },
  {
   "cell_type": "code",
   "execution_count": 11,
   "id": "07ba63e2",
   "metadata": {},
   "outputs": [
    {
     "data": {
      "text/plain": [
       "True"
      ]
     },
     "execution_count": 11,
     "metadata": {},
     "output_type": "execute_result"
    }
   ],
   "source": [
    "tup1[2]"
   ]
  },
  {
   "cell_type": "code",
   "execution_count": 14,
   "id": "a77571e8",
   "metadata": {},
   "outputs": [
    {
     "data": {
      "text/plain": [
       "(1, 'python', True, 2.5)"
      ]
     },
     "execution_count": 14,
     "metadata": {},
     "output_type": "execute_result"
    }
   ],
   "source": [
    "#last element is exclusive\n",
    "tup1[0:]"
   ]
  },
  {
   "cell_type": "code",
   "execution_count": 15,
   "id": "610f16aa",
   "metadata": {},
   "outputs": [
    {
     "data": {
      "text/plain": [
       "4"
      ]
     },
     "execution_count": 15,
     "metadata": {},
     "output_type": "execute_result"
    }
   ],
   "source": [
    "#count of elements in tuple\n",
    "len(tup1)"
   ]
  },
  {
   "cell_type": "code",
   "execution_count": 16,
   "id": "351c566b",
   "metadata": {},
   "outputs": [
    {
     "data": {
      "text/plain": [
       "(2, 'Shoaib jafferi', 3.5, True)"
      ]
     },
     "execution_count": 16,
     "metadata": {},
     "output_type": "execute_result"
    }
   ],
   "source": [
    "tup2 =(2, \"Shoaib jafferi\",3.5, True)\n",
    "tup2"
   ]
  },
  {
   "cell_type": "code",
   "execution_count": 26,
   "id": "b6bc6b6d",
   "metadata": {},
   "outputs": [
    {
     "data": {
      "text/plain": [
       "(1, 'python', True, 2.5, 2, 'Shoaib jafferi', 3.5, True)"
      ]
     },
     "execution_count": 26,
     "metadata": {},
     "output_type": "execute_result"
    }
   ],
   "source": [
    "#concatinate (to add two or >2)\n",
    "tup1+tup2"
   ]
  },
  {
   "cell_type": "code",
   "execution_count": 19,
   "id": "47928f9d",
   "metadata": {},
   "outputs": [
    {
     "data": {
      "text/plain": [
       "(1,\n",
       " 'python',\n",
       " True,\n",
       " 2.5,\n",
       " 1,\n",
       " 'python',\n",
       " True,\n",
       " 2.5,\n",
       " 2,\n",
       " 'Shoaib jafferi',\n",
       " 3.5,\n",
       " True,\n",
       " 2,\n",
       " 'Shoaib jafferi',\n",
       " 3.5,\n",
       " True,\n",
       " 2,\n",
       " 'Shoaib jafferi',\n",
       " 3.5,\n",
       " True)"
      ]
     },
     "execution_count": 19,
     "metadata": {},
     "output_type": "execute_result"
    }
   ],
   "source": [
    "tup1*2+tup2*3"
   ]
  },
  {
   "cell_type": "code",
   "execution_count": 21,
   "id": "ae1d800f",
   "metadata": {},
   "outputs": [
    {
     "data": {
      "text/plain": [
       "(20, 45, 89, 102, 44, 125, 47, 98, 4536, 523, 254)"
      ]
     },
     "execution_count": 21,
     "metadata": {},
     "output_type": "execute_result"
    }
   ],
   "source": [
    "tup3= (20,45,89,102,44,125,47,98,4536,523,254)\n",
    "tup3"
   ]
  },
  {
   "cell_type": "code",
   "execution_count": 22,
   "id": "1ad94f45",
   "metadata": {},
   "outputs": [
    {
     "data": {
      "text/plain": [
       "20"
      ]
     },
     "execution_count": 22,
     "metadata": {},
     "output_type": "execute_result"
    }
   ],
   "source": [
    "#minimu\n",
    "min(tup3)"
   ]
  },
  {
   "cell_type": "code",
   "execution_count": 23,
   "id": "afb34d18",
   "metadata": {},
   "outputs": [
    {
     "data": {
      "text/plain": [
       "4536"
      ]
     },
     "execution_count": 23,
     "metadata": {},
     "output_type": "execute_result"
    }
   ],
   "source": [
    "#maximum\n",
    "max(tup3)"
   ]
  },
  {
   "cell_type": "code",
   "execution_count": 24,
   "id": "0c52e9b2",
   "metadata": {},
   "outputs": [
    {
     "data": {
      "text/plain": [
       "(20,\n",
       " 45,\n",
       " 89,\n",
       " 102,\n",
       " 44,\n",
       " 125,\n",
       " 47,\n",
       " 98,\n",
       " 4536,\n",
       " 523,\n",
       " 254,\n",
       " 20,\n",
       " 45,\n",
       " 89,\n",
       " 102,\n",
       " 44,\n",
       " 125,\n",
       " 47,\n",
       " 98,\n",
       " 4536,\n",
       " 523,\n",
       " 254)"
      ]
     },
     "execution_count": 24,
     "metadata": {},
     "output_type": "execute_result"
    }
   ],
   "source": [
    "tup3*2"
   ]
  },
  {
   "cell_type": "markdown",
   "id": "d850acba",
   "metadata": {},
   "source": [
    "---\n"
   ]
  },
  {
   "cell_type": "markdown",
   "id": "48866d92",
   "metadata": {},
   "source": [
    "## 2-List\n",
    "- ordered collection of elements\n",
    "- enclosed in [] square brackets/braces\n",
    "- Mutateable, you can change the values"
   ]
  },
  {
   "cell_type": "code",
   "execution_count": 27,
   "id": "b8a92ce9",
   "metadata": {},
   "outputs": [
    {
     "data": {
      "text/plain": [
       "[2, 'shoaib haider', False]"
      ]
     },
     "execution_count": 27,
     "metadata": {},
     "output_type": "execute_result"
    }
   ],
   "source": [
    "list1= [2,\"shoaib haider\", False]\n",
    "list1"
   ]
  },
  {
   "cell_type": "code",
   "execution_count": 28,
   "id": "f6c9a278",
   "metadata": {},
   "outputs": [
    {
     "data": {
      "text/plain": [
       "list"
      ]
     },
     "execution_count": 28,
     "metadata": {},
     "output_type": "execute_result"
    }
   ],
   "source": [
    "type(list1)"
   ]
  },
  {
   "cell_type": "code",
   "execution_count": 29,
   "id": "3d6b369e",
   "metadata": {},
   "outputs": [
    {
     "data": {
      "text/plain": [
       "3"
      ]
     },
     "execution_count": 29,
     "metadata": {},
     "output_type": "execute_result"
    }
   ],
   "source": [
    "len(list1)"
   ]
  },
  {
   "cell_type": "code",
   "execution_count": 30,
   "id": "c03d85e4",
   "metadata": {},
   "outputs": [
    {
     "data": {
      "text/plain": [
       "False"
      ]
     },
     "execution_count": 30,
     "metadata": {},
     "output_type": "execute_result"
    }
   ],
   "source": [
    "list1[2]"
   ]
  },
  {
   "cell_type": "code",
   "execution_count": 34,
   "id": "5943b206",
   "metadata": {},
   "outputs": [
    {
     "data": {
      "text/plain": [
       "[3, 8, 'shoaib haider', 'learning python', 589, 54.3]"
      ]
     },
     "execution_count": 34,
     "metadata": {},
     "output_type": "execute_result"
    }
   ],
   "source": [
    "list2=[3,8,\"shoaib haider\",\"learning python\",589,54.3]\n",
    "list2"
   ]
  },
  {
   "cell_type": "code",
   "execution_count": 35,
   "id": "6ee68aad",
   "metadata": {},
   "outputs": [
    {
     "data": {
      "text/plain": [
       "[2,\n",
       " 'shoaib haider',\n",
       " False,\n",
       " 3,\n",
       " 8,\n",
       " 'shoaib haider',\n",
       " 'learning python',\n",
       " 589,\n",
       " 54.3]"
      ]
     },
     "execution_count": 35,
     "metadata": {},
     "output_type": "execute_result"
    }
   ],
   "source": [
    "list1 + list2"
   ]
  },
  {
   "cell_type": "code",
   "execution_count": 36,
   "id": "0b748901",
   "metadata": {},
   "outputs": [
    {
     "data": {
      "text/plain": [
       "[2, 'shoaib haider', False, 2, 'shoaib haider', False]"
      ]
     },
     "execution_count": 36,
     "metadata": {},
     "output_type": "execute_result"
    }
   ],
   "source": [
    "list1 *2"
   ]
  },
  {
   "cell_type": "code",
   "execution_count": 39,
   "id": "68264fda",
   "metadata": {},
   "outputs": [
    {
     "data": {
      "text/plain": [
       "[False, 'shoaib haider', 2]"
      ]
     },
     "execution_count": 39,
     "metadata": {},
     "output_type": "execute_result"
    }
   ],
   "source": [
    "list1"
   ]
  },
  {
   "cell_type": "code",
   "execution_count": 40,
   "id": "1b8ff8d5",
   "metadata": {},
   "outputs": [
    {
     "data": {
      "text/plain": [
       "[2, 'shoaib haider', False]"
      ]
     },
     "execution_count": 40,
     "metadata": {},
     "output_type": "execute_result"
    }
   ],
   "source": [
    "list1.reverse()\n",
    "list1"
   ]
  },
  {
   "cell_type": "code",
   "execution_count": 43,
   "id": "7b78a841",
   "metadata": {},
   "outputs": [
    {
     "data": {
      "text/plain": [
       "[2,\n",
       " 'shoaib haider',\n",
       " False,\n",
       " 'codanics youtube channel',\n",
       " 'codanics youtube channel',\n",
       " 'codanics youtube channel']"
      ]
     },
     "execution_count": 43,
     "metadata": {},
     "output_type": "execute_result"
    }
   ],
   "source": [
    "list1.append(\"codanics youtube channel\")\n",
    "list1"
   ]
  },
  {
   "cell_type": "code",
   "execution_count": 46,
   "id": "81f17bb7",
   "metadata": {},
   "outputs": [
    {
     "data": {
      "text/plain": [
       "1"
      ]
     },
     "execution_count": 46,
     "metadata": {},
     "output_type": "execute_result"
    }
   ],
   "source": [
    "list1.count(False)"
   ]
  },
  {
   "cell_type": "code",
   "execution_count": 47,
   "id": "410044f2",
   "metadata": {},
   "outputs": [
    {
     "data": {
      "text/plain": [
       "[45, 78, 12, 788, 654, 2, 563, 689, 145, 754, 369]"
      ]
     },
     "execution_count": 47,
     "metadata": {},
     "output_type": "execute_result"
    }
   ],
   "source": [
    "list3=[45,78,12,788,654,2,563,689,145,754,369]\n",
    "list3"
   ]
  },
  {
   "cell_type": "code",
   "execution_count": 48,
   "id": "805148d9",
   "metadata": {},
   "outputs": [
    {
     "data": {
      "text/plain": [
       "11"
      ]
     },
     "execution_count": 48,
     "metadata": {},
     "output_type": "execute_result"
    }
   ],
   "source": [
    "len(list3)"
   ]
  },
  {
   "cell_type": "code",
   "execution_count": 49,
   "id": "33a6c443",
   "metadata": {},
   "outputs": [
    {
     "data": {
      "text/plain": [
       "[2, 12, 45, 78, 145, 369, 563, 654, 689, 754, 788]"
      ]
     },
     "execution_count": 49,
     "metadata": {},
     "output_type": "execute_result"
    }
   ],
   "source": [
    "#sorting a list\n",
    "list3.sort()\n",
    "list3"
   ]
  },
  {
   "cell_type": "code",
   "execution_count": 50,
   "id": "4b86efa0",
   "metadata": {},
   "outputs": [
    {
     "data": {
      "text/plain": [
       "[2,\n",
       " 12,\n",
       " 45,\n",
       " 78,\n",
       " 145,\n",
       " 369,\n",
       " 563,\n",
       " 654,\n",
       " 689,\n",
       " 754,\n",
       " 788,\n",
       " 2,\n",
       " 12,\n",
       " 45,\n",
       " 78,\n",
       " 145,\n",
       " 369,\n",
       " 563,\n",
       " 654,\n",
       " 689,\n",
       " 754,\n",
       " 788]"
      ]
     },
     "execution_count": 50,
     "metadata": {},
     "output_type": "execute_result"
    }
   ],
   "source": [
    "list3*2"
   ]
  },
  {
   "cell_type": "code",
   "execution_count": 52,
   "id": "0642ac68",
   "metadata": {},
   "outputs": [
    {
     "data": {
      "text/plain": [
       "[2,\n",
       " 'shoaib haider',\n",
       " False,\n",
       " 'codanics youtube channel',\n",
       " 'codanics youtube channel',\n",
       " 'codanics youtube channel',\n",
       " 3,\n",
       " 8,\n",
       " 'shoaib haider',\n",
       " 'learning python',\n",
       " 589,\n",
       " 54.3]"
      ]
     },
     "execution_count": 52,
     "metadata": {},
     "output_type": "execute_result"
    }
   ],
   "source": [
    "lists=list1+list2\n",
    "lists"
   ]
  },
  {
   "cell_type": "markdown",
   "id": "f7e88503",
   "metadata": {},
   "source": [
    "## 3-Dictionaries\n",
    "- An unordered collection of elements\n",
    "- key and Value\n",
    "- curly braces or brackets {}\n",
    "- Mutateable/ change the values"
   ]
  },
  {
   "cell_type": "code",
   "execution_count": 55,
   "id": "0eeaa957",
   "metadata": {},
   "outputs": [
    {
     "data": {
      "text/plain": [
       "{'Samosa': 30, 'Pakora': 100, 'Raita': 41, 'Salad': 45, 'Chicken Rolls': 25}"
      ]
     },
     "execution_count": 55,
     "metadata": {},
     "output_type": "execute_result"
    }
   ],
   "source": [
    "#food and theri prices\n",
    "food1= {\"Samosa\":30, \"Pakora\":100, \"Raita\":41, \"Salad\":45, \"Chicken Rolls\": 25}\n",
    "food1"
   ]
  },
  {
   "cell_type": "code",
   "execution_count": 56,
   "id": "3acacb34",
   "metadata": {},
   "outputs": [
    {
     "data": {
      "text/plain": [
       "dict"
      ]
     },
     "execution_count": 56,
     "metadata": {},
     "output_type": "execute_result"
    }
   ],
   "source": [
    "type(food1)"
   ]
  },
  {
   "cell_type": "code",
   "execution_count": 57,
   "id": "fbb5acf6",
   "metadata": {},
   "outputs": [
    {
     "data": {
      "text/plain": [
       "dict_keys(['Samosa', 'Pakora', 'Raita', 'Salad', 'Chicken Rolls'])"
      ]
     },
     "execution_count": 57,
     "metadata": {},
     "output_type": "execute_result"
    }
   ],
   "source": [
    "#extract data\n",
    "food1.keys()"
   ]
  },
  {
   "cell_type": "code",
   "execution_count": 58,
   "id": "a15fa8b8",
   "metadata": {},
   "outputs": [
    {
     "data": {
      "text/plain": [
       "dict_values([30, 100, 41, 45, 25])"
      ]
     },
     "execution_count": 58,
     "metadata": {},
     "output_type": "execute_result"
    }
   ],
   "source": [
    "food1.values()"
   ]
  },
  {
   "cell_type": "code",
   "execution_count": 59,
   "id": "776a98b3",
   "metadata": {},
   "outputs": [
    {
     "data": {
      "text/plain": [
       "{'Samosa': 30,\n",
       " 'Pakora': 100,\n",
       " 'Raita': 41,\n",
       " 'Salad': 45,\n",
       " 'Chicken Rolls': 25,\n",
       " 'Tikki': 15}"
      ]
     },
     "execution_count": 59,
     "metadata": {},
     "output_type": "execute_result"
    }
   ],
   "source": [
    "#adding new element\n",
    "food1[\"Tikki\"]=15\n",
    "food1"
   ]
  },
  {
   "cell_type": "code",
   "execution_count": 61,
   "id": "a33fe95e",
   "metadata": {},
   "outputs": [
    {
     "data": {
      "text/plain": [
       "{'Samosa': 30,\n",
       " 'Pakora': 100,\n",
       " 'Raita': 41,\n",
       " 'Salad': 45,\n",
       " 'Chicken Rolls': 25,\n",
       " 'Tikki': 20}"
      ]
     },
     "execution_count": 61,
     "metadata": {},
     "output_type": "execute_result"
    }
   ],
   "source": [
    "#update the values\n",
    "food1[\"Tikki\"]=20\n",
    "food1"
   ]
  },
  {
   "cell_type": "code",
   "execution_count": 62,
   "id": "be5e0edb",
   "metadata": {},
   "outputs": [
    {
     "data": {
      "text/plain": [
       "{'dates': 50, 'chocolate': 200, 'swayyan': 500}"
      ]
     },
     "execution_count": 62,
     "metadata": {},
     "output_type": "execute_result"
    }
   ],
   "source": [
    "food2= {\"dates\":50, \"chocolate\":200,\"swayyan\":500,}\n",
    "food2"
   ]
  },
  {
   "cell_type": "code",
   "execution_count": 64,
   "id": "0d5a89ac",
   "metadata": {},
   "outputs": [
    {
     "data": {
      "text/plain": [
       "{'Samosa': 30,\n",
       " 'Pakora': 100,\n",
       " 'Raita': 41,\n",
       " 'Salad': 45,\n",
       " 'Chicken Rolls': 25,\n",
       " 'Tikki': 20,\n",
       " 'dates': 50,\n",
       " 'chocolate': 200,\n",
       " 'swayyan': 500}"
      ]
     },
     "execution_count": 64,
     "metadata": {},
     "output_type": "execute_result"
    }
   ],
   "source": [
    "#concatinate\n",
    "food1.update(food2)\n",
    "food1"
   ]
  },
  {
   "cell_type": "markdown",
   "id": "b0f4dead",
   "metadata": {},
   "source": [
    "## 4-Set\n",
    "- Unordered and unindexed\n",
    "- Curly Brackets/braces {}\n",
    "- No duplicates allowed"
   ]
  },
  {
   "cell_type": "code",
   "execution_count": 65,
   "id": "077038d7",
   "metadata": {},
   "outputs": [
    {
     "data": {
      "text/plain": [
       "{1, 5, 6.6, 8.9, 'Learning python', 'Shoaib', 'faislabad'}"
      ]
     },
     "execution_count": 65,
     "metadata": {},
     "output_type": "execute_result"
    }
   ],
   "source": [
    "s1={1,5,8.9,6.6,\"faislabad\",\"Shoaib\",\"Learning python\", True}\n",
    "s1"
   ]
  },
  {
   "cell_type": "code",
   "execution_count": 66,
   "id": "d60632e4",
   "metadata": {},
   "outputs": [
    {
     "data": {
      "text/plain": [
       "{1, 5, 6.6, 8.9, 'Jafferi', 'Learning python', 'Shoaib', 'faislabad'}"
      ]
     },
     "execution_count": 66,
     "metadata": {},
     "output_type": "execute_result"
    }
   ],
   "source": [
    "s1.add(\"Jafferi\")\n",
    "s1"
   ]
  },
  {
   "cell_type": "code",
   "execution_count": null,
   "id": "258a165b",
   "metadata": {},
   "outputs": [],
   "source": []
  },
  {
   "cell_type": "code",
   "execution_count": null,
   "id": "e231e45a",
   "metadata": {},
   "outputs": [],
   "source": []
  },
  {
   "cell_type": "code",
   "execution_count": null,
   "id": "25ed72f9",
   "metadata": {},
   "outputs": [],
   "source": []
  },
  {
   "cell_type": "code",
   "execution_count": null,
   "id": "7e9c0e2c",
   "metadata": {},
   "outputs": [],
   "source": []
  },
  {
   "cell_type": "code",
   "execution_count": null,
   "id": "c036d68b",
   "metadata": {},
   "outputs": [],
   "source": []
  }
 ],
 "metadata": {
  "kernelspec": {
   "display_name": "Python 3 (ipykernel)",
   "language": "python",
   "name": "python3"
  },
  "language_info": {
   "codemirror_mode": {
    "name": "ipython",
    "version": 3
   },
   "file_extension": ".py",
   "mimetype": "text/x-python",
   "name": "python",
   "nbconvert_exporter": "python",
   "pygments_lexer": "ipython3",
   "version": "3.9.12"
  }
 },
 "nbformat": 4,
 "nbformat_minor": 5
}
