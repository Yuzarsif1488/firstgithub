{
 "cells": [
  {
   "cell_type": "markdown",
   "id": "6835d3ee",
   "metadata": {},
   "source": [
    "# numpy practice session"
   ]
  },
  {
   "cell_type": "code",
   "execution_count": 1,
   "id": "ee0396d5",
   "metadata": {},
   "outputs": [],
   "source": [
    "import numpy as np\n"
   ]
  },
  {
   "cell_type": "code",
   "execution_count": 2,
   "id": "a6f2c912",
   "metadata": {},
   "outputs": [],
   "source": [
    "# Creating an array using numpy"
   ]
  },
  {
   "cell_type": "code",
   "execution_count": 3,
   "id": "cbc3e793",
   "metadata": {},
   "outputs": [
    {
     "data": {
      "text/plain": [
       "array(['Pakora', 'Samosa', 'Raita'], dtype='<U6')"
      ]
     },
     "execution_count": 3,
     "metadata": {},
     "output_type": "execute_result"
    }
   ],
   "source": [
    "# 1D-array\n",
    "food = np.array([\"Pakora\", \"Samosa\", \"Raita\"])\n",
    "food"
   ]
  },
  {
   "cell_type": "code",
   "execution_count": 4,
   "id": "9bea3068",
   "metadata": {},
   "outputs": [
    {
     "data": {
      "text/plain": [
       "array([5, 5, 5])"
      ]
     },
     "execution_count": 4,
     "metadata": {},
     "output_type": "execute_result"
    }
   ],
   "source": [
    "price = np.array([5,5,5])\n",
    "price"
   ]
  },
  {
   "cell_type": "code",
   "execution_count": 5,
   "id": "d60ece15",
   "metadata": {},
   "outputs": [
    {
     "data": {
      "text/plain": [
       "numpy.ndarray"
      ]
     },
     "execution_count": 5,
     "metadata": {},
     "output_type": "execute_result"
    }
   ],
   "source": [
    "type(price)"
   ]
  },
  {
   "cell_type": "code",
   "execution_count": 6,
   "id": "1bd73988",
   "metadata": {},
   "outputs": [
    {
     "data": {
      "text/plain": [
       "numpy.ndarray"
      ]
     },
     "execution_count": 6,
     "metadata": {},
     "output_type": "execute_result"
    }
   ],
   "source": [
    "type(food)"
   ]
  },
  {
   "cell_type": "code",
   "execution_count": 7,
   "id": "cd792195",
   "metadata": {},
   "outputs": [
    {
     "data": {
      "text/plain": [
       "3"
      ]
     },
     "execution_count": 7,
     "metadata": {},
     "output_type": "execute_result"
    }
   ],
   "source": [
    "len(price)"
   ]
  },
  {
   "cell_type": "code",
   "execution_count": 8,
   "id": "3a573209",
   "metadata": {},
   "outputs": [
    {
     "data": {
      "text/plain": [
       "3"
      ]
     },
     "execution_count": 8,
     "metadata": {},
     "output_type": "execute_result"
    }
   ],
   "source": [
    "len(food)"
   ]
  },
  {
   "cell_type": "code",
   "execution_count": 9,
   "id": "80f941b5",
   "metadata": {},
   "outputs": [
    {
     "data": {
      "text/plain": [
       "5"
      ]
     },
     "execution_count": 9,
     "metadata": {},
     "output_type": "execute_result"
    }
   ],
   "source": [
    "price[2]"
   ]
  },
  {
   "cell_type": "code",
   "execution_count": 10,
   "id": "3d15e656",
   "metadata": {},
   "outputs": [
    {
     "data": {
      "text/plain": [
       "array([5, 5, 5])"
      ]
     },
     "execution_count": 10,
     "metadata": {},
     "output_type": "execute_result"
    }
   ],
   "source": [
    "price[0:]"
   ]
  },
  {
   "cell_type": "code",
   "execution_count": 11,
   "id": "e02238af",
   "metadata": {},
   "outputs": [
    {
     "data": {
      "text/plain": [
       "'Samosa'"
      ]
     },
     "execution_count": 11,
     "metadata": {},
     "output_type": "execute_result"
    }
   ],
   "source": [
    "food[1]"
   ]
  },
  {
   "cell_type": "code",
   "execution_count": 12,
   "id": "ae769629",
   "metadata": {},
   "outputs": [
    {
     "data": {
      "text/plain": [
       "5.0"
      ]
     },
     "execution_count": 12,
     "metadata": {},
     "output_type": "execute_result"
    }
   ],
   "source": [
    "price.mean()"
   ]
  },
  {
   "cell_type": "code",
   "execution_count": 13,
   "id": "ddb266cf",
   "metadata": {},
   "outputs": [
    {
     "data": {
      "text/plain": [
       "array([0., 0., 0., 0., 0., 0.])"
      ]
     },
     "execution_count": 13,
     "metadata": {},
     "output_type": "execute_result"
    }
   ],
   "source": [
    "# zeros\n",
    "np.zeros(6)"
   ]
  },
  {
   "cell_type": "code",
   "execution_count": 14,
   "id": "3879d9d8",
   "metadata": {},
   "outputs": [
    {
     "data": {
      "text/plain": [
       "array([1., 1., 1., 1., 1., 1.])"
      ]
     },
     "execution_count": 14,
     "metadata": {},
     "output_type": "execute_result"
    }
   ],
   "source": [
    "# ones\n",
    "np.ones(6)"
   ]
  },
  {
   "cell_type": "code",
   "execution_count": 23,
   "id": "5c0a8edb",
   "metadata": {},
   "outputs": [
    {
     "data": {
      "text/plain": [
       "array([1., 1., 1., 1., 1., 1.])"
      ]
     },
     "execution_count": 23,
     "metadata": {},
     "output_type": "execute_result"
    }
   ],
   "source": [
    "# empty \n",
    "np.empty(6)"
   ]
  },
  {
   "cell_type": "code",
   "execution_count": 24,
   "id": "34e52c2b",
   "metadata": {},
   "outputs": [
    {
     "data": {
      "text/plain": [
       "array([0, 1, 2, 3, 4, 5, 6, 7, 8, 9])"
      ]
     },
     "execution_count": 24,
     "metadata": {},
     "output_type": "execute_result"
    }
   ],
   "source": [
    "# range\n",
    "np.arange(10)"
   ]
  },
  {
   "cell_type": "code",
   "execution_count": 25,
   "id": "682b7928",
   "metadata": {
    "scrolled": true
   },
   "outputs": [
    {
     "data": {
      "text/plain": [
       "array([ 2,  3,  4,  5,  6,  7,  8,  9, 10, 11, 12, 13, 14, 15, 16, 17, 18,\n",
       "       19])"
      ]
     },
     "execution_count": 25,
     "metadata": {},
     "output_type": "execute_result"
    }
   ],
   "source": [
    "# specify\n",
    "np.arange(2,20)"
   ]
  },
  {
   "cell_type": "code",
   "execution_count": 26,
   "id": "d7569257",
   "metadata": {},
   "outputs": [
    {
     "data": {
      "text/plain": [
       "array([ 2,  4,  6,  8, 10, 12, 14, 16, 18])"
      ]
     },
     "execution_count": 26,
     "metadata": {},
     "output_type": "execute_result"
    }
   ],
   "source": [
    "# specific interval\n",
    "np.arange(2,20,2)"
   ]
  },
  {
   "cell_type": "code",
   "execution_count": 27,
   "id": "104a9cd8",
   "metadata": {},
   "outputs": [
    {
     "data": {
      "text/plain": [
       "array([ 5, 10, 15, 20, 25, 30, 35, 40, 45, 50])"
      ]
     },
     "execution_count": 27,
     "metadata": {},
     "output_type": "execute_result"
    }
   ],
   "source": [
    "# table of 5\n",
    "np.arange(5,55,5)"
   ]
  },
  {
   "cell_type": "code",
   "execution_count": 28,
   "id": "51578d1b",
   "metadata": {},
   "outputs": [
    {
     "data": {
      "text/plain": [
       "array([  0.        ,  11.11111111,  22.22222222,  33.33333333,\n",
       "        44.44444444,  55.55555556,  66.66666667,  77.77777778,\n",
       "        88.88888889, 100.        ])"
      ]
     },
     "execution_count": 28,
     "metadata": {},
     "output_type": "execute_result"
    }
   ],
   "source": [
    "#line space\n",
    "np.linspace(0,100, num=10)"
   ]
  },
  {
   "cell_type": "code",
   "execution_count": 30,
   "id": "b39462e5",
   "metadata": {},
   "outputs": [
    {
     "data": {
      "text/plain": [
       "array([1, 1, 1, 1, 1], dtype=int64)"
      ]
     },
     "execution_count": 30,
     "metadata": {},
     "output_type": "execute_result"
    }
   ],
   "source": [
    "#specify your data type\n",
    "np.ones(5, dtype=np.int64)"
   ]
  },
  {
   "cell_type": "code",
   "execution_count": 31,
   "id": "97b9950c",
   "metadata": {},
   "outputs": [
    {
     "data": {
      "text/plain": [
       "array([1., 1., 1., 1., 1.])"
      ]
     },
     "execution_count": 31,
     "metadata": {},
     "output_type": "execute_result"
    }
   ],
   "source": [
    "#specify your data type\n",
    "np.ones(5, dtype=np.float64)"
   ]
  },
  {
   "cell_type": "markdown",
   "id": "33c6252c",
   "metadata": {},
   "source": [
    "# Array function"
   ]
  },
  {
   "cell_type": "code",
   "execution_count": 33,
   "id": "ef60a42f",
   "metadata": {},
   "outputs": [
    {
     "data": {
      "text/plain": [
       "array([ 10. ,  15. ,  19. , 123. ,  52. ,  23. ,   2.8,   5.9,   4.6])"
      ]
     },
     "execution_count": 33,
     "metadata": {},
     "output_type": "execute_result"
    }
   ],
   "source": [
    "a= np.array([10,15,19,123,52,23,2.8,5.9,4.6])\n",
    "a"
   ]
  },
  {
   "cell_type": "code",
   "execution_count": 36,
   "id": "d95ac739",
   "metadata": {},
   "outputs": [
    {
     "data": {
      "text/plain": [
       "array([  2.8,   4.6,   5.9,  10. ,  15. ,  19. ,  23. ,  52. , 123. ])"
      ]
     },
     "execution_count": 36,
     "metadata": {},
     "output_type": "execute_result"
    }
   ],
   "source": [
    "a.sort()\n",
    "a"
   ]
  },
  {
   "cell_type": "code",
   "execution_count": 37,
   "id": "2098bf8f",
   "metadata": {},
   "outputs": [
    {
     "data": {
      "text/plain": [
       "array([10.8,  5.9,  4.3,  3.9,  4.9,  8.9])"
      ]
     },
     "execution_count": 37,
     "metadata": {},
     "output_type": "execute_result"
    }
   ],
   "source": [
    "b=np.array([10.8,5.9,4.3,3.9,4.9,8.9])\n",
    "b"
   ]
  },
  {
   "cell_type": "code",
   "execution_count": 40,
   "id": "b05dd1a9",
   "metadata": {},
   "outputs": [
    {
     "data": {
      "text/plain": [
       "array([  2.8,   4.6,   5.9,  10. ,  15. ,  19. ,  23. ,  52. , 123. ,\n",
       "        10.8,   5.9,   4.3,   3.9,   4.9,   8.9])"
      ]
     },
     "execution_count": 40,
     "metadata": {},
     "output_type": "execute_result"
    }
   ],
   "source": [
    "c = np.concatenate((a,b))\n",
    "c"
   ]
  },
  {
   "cell_type": "code",
   "execution_count": null,
   "id": "40157f8b",
   "metadata": {},
   "outputs": [],
   "source": []
  }
 ],
 "metadata": {
  "kernelspec": {
   "display_name": "Python 3 (ipykernel)",
   "language": "python",
   "name": "python3"
  },
  "language_info": {
   "codemirror_mode": {
    "name": "ipython",
    "version": 3
   },
   "file_extension": ".py",
   "mimetype": "text/x-python",
   "name": "python",
   "nbconvert_exporter": "python",
   "pygments_lexer": "ipython3",
   "version": "3.9.12"
  }
 },
 "nbformat": 4,
 "nbformat_minor": 5
}
